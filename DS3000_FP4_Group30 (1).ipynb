{
 "cells": [
  {
   "cell_type": "markdown",
   "metadata": {
    "id": "1pj6dyGcQPdJ"
   },
   "source": [
    "<center> <h2> DS 3000 - Fall 2021</h2> </center>\n",
    "<center> <h3> DS Report </h3> </center>"
   ]
  },
  {
   "cell_type": "markdown",
   "metadata": {
    "id": "c3hXa3gaQPdN"
   },
   "source": [
    "<center> <h3> Project Title</h3> </center>\n",
    "<center><h4>Daniel O'Connor, Vivek Divakarla, Abyan Nawaz</h4></center>"
   ]
  },
  {
   "cell_type": "markdown",
   "metadata": {
    "id": "otbEIhtdQPdN"
   },
   "source": [
    "<hr style=\"height:2px; border:none; color:black; background-color:black;\">"
   ]
  },
  {
   "cell_type": "code",
   "execution_count": null,
   "metadata": {
    "id": "gKtlFANVQTL0"
   },
   "outputs": [],
   "source": [
    "# shareable link\n",
    "#https://colab.research.google.com/drive/1JM8fw5yTY99P67zdfcgnkW4yBjD_wYTT?usp=sharing"
   ]
  },
  {
   "cell_type": "markdown",
   "metadata": {
    "id": "WSOaVZk9QPdN"
   },
   "source": [
    "#### Executive Summary:\n",
    "\n",
    "The topic of this project was to predict if the home team in an NBA game will cover the spread, based off of the 2020-2021 season. Being able to accurately predict this feature would solve the problem of risky sports betting by allowing the user to compare the predicted odds to the Vegas odds. \n",
    "\n",
    "Data was organized and wrangled to show the significance of certain features and their relation to the moneyline. The data was extracted from the website Sports Book Reviews Online and NBA.com.\n",
    "\n",
    "To tackle this problem, first, the data was visualized into a series of graphs to better understand the correlation between certain variables. There are multiple variables that showed great correlation to winning a game and covering the spread; some of these variables include, effective field goal percentage, offensive rebound percentage and turnover percentage. \n",
    "\n",
    "The model was trained using multiple classification algorithms to guess if either, the team covers the spread or it does not (essentially winning or losing). Features were scaled and normalized as well as selected/checked for importance, at the end, a grid search was implemented to retrieve the best parameters to retrieve a classification accuracy of 57.68% using the Gaussian Naive Bayes algorithm."
   ]
  },
  {
   "cell_type": "markdown",
   "metadata": {
    "id": "VnMUHk9tQPdO"
   },
   "source": [
    "<hr style=\"height:2px; border:none; color:black; background-color:black;\">"
   ]
  },
  {
   "cell_type": "markdown",
   "metadata": {
    "id": "9j1IclIzQPdO"
   },
   "source": [
    "## Outline\n",
    "1. <a href='#1'>INTRODUCTION</a>\n",
    "2. <a href='#2'>METHOD</a>\n",
    "3. <a href='#3'>RESULTS</a>\n",
    "4. <a href='#4'>DISCUSSION</a>"
   ]
  },
  {
   "cell_type": "markdown",
   "metadata": {
    "id": "fdLYTRV3QPdO"
   },
   "source": [
    "<a id=\"1\"></a>\n",
    "<hr style=\"height:2px; border:none; color:black; background-color:black;\">"
   ]
  },
  {
   "cell_type": "markdown",
   "metadata": {
    "id": "5cIZ6EL8QPdO"
   },
   "source": [
    "## 1. INTRODUCTION"
   ]
  },
  {
   "cell_type": "markdown",
   "metadata": {
    "id": "APu1a4veQPdP"
   },
   "source": [
    "The goal of our project is to predict if the home team covers the spread in a certain basketball game to help sports bettors. We\n",
    "would also like to learn more about Vegas odds and how they skew odds in their favor. Using our predictions\n",
    "and our gained insight on Vegas odds, we can better identify which betting lines are poorly constructed and\n",
    "could be exploited. In essence, this would create a “money machine” that could repeatedly predict strong bets\n",
    "for bettors to take advantage of.\n",
    "\n",
    "Our dataset represents all NBA games from the 2020-2021 season. We have a few target variables, since\n",
    "there are multiple items to bet on. These targets include money line data, spread, turnover percentage, effective field goal percentage per team and many more.  With these multiple features, we can analyze which teams are most likely to “cover the spread”which teams are likely to\n",
    "contribute to a higher total score, which teams are most consistent to win as the favorite, etc. Using machine learning algorithms, we will be able to create a model that predicts whether a team covers the spread or not, as described above, and exploit certain aspects of it to hopefully, obtain a positive cash flow.\n",
    "\n",
    "Questions that we had to answer to reach our conclusion:\n",
    "\n",
    "    - What are the best features to predict the outcome of an NBA game?\n",
    "    - What is a good dataset to use to predict the outcome of an NBA game?\n",
    "    - How can we use our prediction against the Vegas prediction to make a profit?\n",
    "    - Which variables have the best correlation with eachother to use in our model?\n",
    "    - Which machine learning algorithim is the best for our project?\n",
    "        - GaussianNB?\n",
    "        - Decision Tree?\n",
    "        - KNN?\n",
    "        - Linear SVC?\n",
    "        - XGB?\n",
    "    - How will we tune our algorithim to elicit the best possible results?\n",
    "    - What does our final interpretaion of our results look like?\n"
   ]
  },
  {
   "cell_type": "markdown",
   "metadata": {
    "id": "SLV5TCJPQPdP"
   },
   "source": [
    "<a id=\"2\"></a>\n",
    "<hr style=\"height:2px; border:none; color:black; background-color:black;\">"
   ]
  },
  {
   "cell_type": "markdown",
   "metadata": {
    "id": "8tslDY6mQPdQ"
   },
   "source": [
    "## 2. METHOD"
   ]
  },
  {
   "cell_type": "markdown",
   "metadata": {
    "id": "x1PTLmv6QPdQ"
   },
   "source": [
    "### 2.1. Data Acquisition"
   ]
  },
  {
   "cell_type": "code",
   "execution_count": null,
   "metadata": {
    "id": "7GaoWlTYQPdQ"
   },
   "outputs": [],
   "source": [
    "import csv\n",
    "import pandas as pd\n",
    "from scipy import stats\n",
    "import matplotlib.pyplot as plt\n",
    "import seaborn as sns\n",
    "from scipy.stats import uniform\n",
    "from sklearn.preprocessing import MinMaxScaler, normalize\n",
    "from sklearn.metrics import r2_score, mean_squared_error\n",
    "from sklearn.linear_model import LinearRegression, Ridge\n",
    "from sklearn.feature_selection import RFE\n",
    "from sklearn import preprocessing\n",
    "from sklearn.tree import DecisionTreeRegressor\n",
    "from sklearn.model_selection import GridSearchCV, train_test_split\n",
    "import numpy as np"
   ]
  },
  {
   "cell_type": "code",
   "execution_count": null,
   "metadata": {
    "id": "mKM-7oG1QPdR",
    "outputId": "1df3086f-d93a-452f-a3f7-bb29d86f47a2"
   },
   "outputs": [
    {
     "data": {
      "text/html": [
       "<div>\n",
       "<style scoped>\n",
       "    .dataframe tbody tr th:only-of-type {\n",
       "        vertical-align: middle;\n",
       "    }\n",
       "\n",
       "    .dataframe tbody tr th {\n",
       "        vertical-align: top;\n",
       "    }\n",
       "\n",
       "    .dataframe thead th {\n",
       "        text-align: right;\n",
       "    }\n",
       "</style>\n",
       "<table border=\"1\" class=\"dataframe\">\n",
       "  <thead>\n",
       "    <tr style=\"text-align: right;\">\n",
       "      <th></th>\n",
       "      <th>Date</th>\n",
       "      <th>Rot</th>\n",
       "      <th>VH</th>\n",
       "      <th>Team</th>\n",
       "      <th>Final</th>\n",
       "      <th>Open</th>\n",
       "      <th>Close</th>\n",
       "      <th>ML</th>\n",
       "      <th>2H</th>\n",
       "    </tr>\n",
       "  </thead>\n",
       "  <tbody>\n",
       "    <tr>\n",
       "      <th>0</th>\n",
       "      <td>1222</td>\n",
       "      <td>501</td>\n",
       "      <td>V</td>\n",
       "      <td>GoldenState</td>\n",
       "      <td>99</td>\n",
       "      <td>228</td>\n",
       "      <td>234.5</td>\n",
       "      <td>265</td>\n",
       "      <td>1</td>\n",
       "    </tr>\n",
       "    <tr>\n",
       "      <th>1</th>\n",
       "      <td>1222</td>\n",
       "      <td>502</td>\n",
       "      <td>H</td>\n",
       "      <td>Brooklyn</td>\n",
       "      <td>125</td>\n",
       "      <td>5.5</td>\n",
       "      <td>7.5</td>\n",
       "      <td>-320</td>\n",
       "      <td>115</td>\n",
       "    </tr>\n",
       "    <tr>\n",
       "      <th>2</th>\n",
       "      <td>1222</td>\n",
       "      <td>503</td>\n",
       "      <td>V</td>\n",
       "      <td>LAClippers</td>\n",
       "      <td>116</td>\n",
       "      <td>223</td>\n",
       "      <td>219</td>\n",
       "      <td>115</td>\n",
       "      <td>108.5</td>\n",
       "    </tr>\n",
       "    <tr>\n",
       "      <th>3</th>\n",
       "      <td>1222</td>\n",
       "      <td>504</td>\n",
       "      <td>H</td>\n",
       "      <td>LALakers</td>\n",
       "      <td>109</td>\n",
       "      <td>2.5</td>\n",
       "      <td>2</td>\n",
       "      <td>-135</td>\n",
       "      <td>3.5</td>\n",
       "    </tr>\n",
       "    <tr>\n",
       "      <th>4</th>\n",
       "      <td>1223</td>\n",
       "      <td>551</td>\n",
       "      <td>V</td>\n",
       "      <td>Charlotte</td>\n",
       "      <td>114</td>\n",
       "      <td>215</td>\n",
       "      <td>3</td>\n",
       "      <td>-140</td>\n",
       "      <td>7</td>\n",
       "    </tr>\n",
       "  </tbody>\n",
       "</table>\n",
       "</div>"
      ]
     },
     "metadata": {},
     "output_type": "display_data"
    }
   ],
   "source": [
    "import pandas as pd\n",
    "\n",
    "#Read in data from CSV\n",
    "\n",
    "url = \"https://raw.githubusercontent.com/awesom24/DS3000Project_Group30/main/nba%20odds%202020-21.csv\"\n",
    "odds = pd.read_csv(url)\n",
    "\n",
    "#Drop columns that we don't need\n",
    "odds = odds.drop(columns = ['Unnamed: 13', 'Unnamed: 14', 'Unnamed: 15', 'Unnamed: 16', 'Unnamed: 17', 'Unnamed: 18', 'Unnamed: 19', '1st', '2nd', '3rd', '4th'])\n",
    "odds.head(5)"
   ]
  },
  {
   "cell_type": "code",
   "execution_count": null,
   "metadata": {
    "id": "EhclgjFBQPdS",
    "outputId": "9dc6d0ad-ec22-4094-9216-a053b85d3aa4"
   },
   "outputs": [
    {
     "data": {
      "text/html": [
       "<div>\n",
       "<style scoped>\n",
       "    .dataframe tbody tr th:only-of-type {\n",
       "        vertical-align: middle;\n",
       "    }\n",
       "\n",
       "    .dataframe tbody tr th {\n",
       "        vertical-align: top;\n",
       "    }\n",
       "\n",
       "    .dataframe thead th {\n",
       "        text-align: right;\n",
       "    }\n",
       "</style>\n",
       "<table border=\"1\" class=\"dataframe\">\n",
       "  <thead>\n",
       "    <tr style=\"text-align: right;\">\n",
       "      <th></th>\n",
       "      <th>Unnamed: 0</th>\n",
       "      <th>GP</th>\n",
       "      <th>W</th>\n",
       "      <th>L</th>\n",
       "      <th>WIN%</th>\n",
       "      <th>MIN</th>\n",
       "      <th>EFG%</th>\n",
       "      <th>FTA\\nRATE</th>\n",
       "      <th>TOV%</th>\n",
       "      <th>OREB%</th>\n",
       "      <th>OPP\\nEFG%</th>\n",
       "      <th>OPP\\nFTA RATE</th>\n",
       "      <th>OPP\\nTOV%</th>\n",
       "      <th>OPP\\nOREB%</th>\n",
       "    </tr>\n",
       "  </thead>\n",
       "  <tbody>\n",
       "    <tr>\n",
       "      <th>0</th>\n",
       "      <td>Atlanta</td>\n",
       "      <td>72</td>\n",
       "      <td>41</td>\n",
       "      <td>31</td>\n",
       "      <td>0.569</td>\n",
       "      <td>3,481</td>\n",
       "      <td>53.9</td>\n",
       "      <td>0.278</td>\n",
       "      <td>13.3</td>\n",
       "      <td>28.4</td>\n",
       "      <td>53.0</td>\n",
       "      <td>0.237</td>\n",
       "      <td>12.4</td>\n",
       "      <td>25.8</td>\n",
       "    </tr>\n",
       "    <tr>\n",
       "      <th>1</th>\n",
       "      <td>Boston</td>\n",
       "      <td>72</td>\n",
       "      <td>36</td>\n",
       "      <td>36</td>\n",
       "      <td>0.500</td>\n",
       "      <td>3,476</td>\n",
       "      <td>54.3</td>\n",
       "      <td>0.234</td>\n",
       "      <td>14.1</td>\n",
       "      <td>28.9</td>\n",
       "      <td>53.9</td>\n",
       "      <td>0.273</td>\n",
       "      <td>14.2</td>\n",
       "      <td>26.3</td>\n",
       "    </tr>\n",
       "    <tr>\n",
       "      <th>2</th>\n",
       "      <td>Brooklyn</td>\n",
       "      <td>72</td>\n",
       "      <td>48</td>\n",
       "      <td>24</td>\n",
       "      <td>0.667</td>\n",
       "      <td>3,481</td>\n",
       "      <td>57.5</td>\n",
       "      <td>0.258</td>\n",
       "      <td>13.4</td>\n",
       "      <td>25.2</td>\n",
       "      <td>53.1</td>\n",
       "      <td>0.241</td>\n",
       "      <td>12.5</td>\n",
       "      <td>27.4</td>\n",
       "    </tr>\n",
       "    <tr>\n",
       "      <th>3</th>\n",
       "      <td>Charlotte</td>\n",
       "      <td>72</td>\n",
       "      <td>33</td>\n",
       "      <td>39</td>\n",
       "      <td>0.458</td>\n",
       "      <td>3,471</td>\n",
       "      <td>53.2</td>\n",
       "      <td>0.238</td>\n",
       "      <td>14.9</td>\n",
       "      <td>27.6</td>\n",
       "      <td>55.0</td>\n",
       "      <td>0.219</td>\n",
       "      <td>14.8</td>\n",
       "      <td>27.8</td>\n",
       "    </tr>\n",
       "    <tr>\n",
       "      <th>4</th>\n",
       "      <td>Chicago</td>\n",
       "      <td>72</td>\n",
       "      <td>31</td>\n",
       "      <td>41</td>\n",
       "      <td>0.431</td>\n",
       "      <td>3,476</td>\n",
       "      <td>54.7</td>\n",
       "      <td>0.197</td>\n",
       "      <td>15.1</td>\n",
       "      <td>26.7</td>\n",
       "      <td>53.8</td>\n",
       "      <td>0.253</td>\n",
       "      <td>12.7</td>\n",
       "      <td>23.3</td>\n",
       "    </tr>\n",
       "  </tbody>\n",
       "</table>\n",
       "</div>"
      ]
     },
     "metadata": {},
     "output_type": "display_data"
    }
   ],
   "source": [
    "# Get four factors table (key stats)\n",
    "four_URL = \"https://raw.githubusercontent.com/awesom24/DS3000Project_Group30/main/updated4factors%20-%20Sheet2.csv\"\n",
    "fourfactors = pd.read_csv(four_URL)\n",
    "fourfactors.head(5)"
   ]
  },
  {
   "cell_type": "markdown",
   "metadata": {
    "id": "5_lgtH26QPdS"
   },
   "source": [
    "We obtained our data from https://www.sportsbookreviewsonline.com/scoresoddsarchives/nba/nbaoddsarchives.htm. We decided to use the 2020-2021 NBA Season in order to have a full season of games as our sample size. From the website, we just downloaded the 'NBA 2020-21' CSV, and read it in to our notebook.\n",
    "\n",
    "For each game of the 2021 NBA Season, the dataset has the Teams, Final Score, Spread, MoneyLine, and Totals. Below in section 3.1 we add a few more tables as well, as well as organize it so that each game just has one row. We have a few target variables, since there are multiple items to bet on. These targets include home team money line, away team money line, total game score, and spread. The features are the home team, away team, home score, and away score. With these four features, we can analyze which teams are most likely to “cover the spread”, which teams are likely to contribute to a higher total score, which teams are most consistent to win as the favorite, etc. \n",
    "\n",
    "In our second dataset, we have 2020-2021 advanced stats for each team, specifically the 'Four Factors'. According to Dean Oliver, there are four specific stats which relate to team success, and each have different weights. In his original writing, he had Scoring (40%), Turnovers (25%), Rebounding (15%), and Free Throws (15%). For each of these, we took stats from the NBA.com website and made it a dataframe. These stats were found here: https://www.nba.com/stats/teams/four-factors/?sort=GP&dir=-1&Season=2020-21&SeasonType=Regular%20Season. EFG% stands for Effective Field Goal Percentage, TOV% stands for Turnover Rate, FTA Rate stands for Free Throw Attempt Rate, and OREB% is the percentage of Offensive Rebounds each team gets. We also have these stats for each team's opponents, which showcases how good a team is defensively. When put together, we can get a true metric of the strength of the team. "
   ]
  },
  {
   "cell_type": "markdown",
   "metadata": {
    "id": "3Zoi9nqlQPdT"
   },
   "source": [
    "### 2.2. Data Analysis\n",
    "* For target variable, we will be using the variable: \"Home Covers Spread?\" This can either be a 1 or a 0 (true or false). The feature variables we are using are: EFG%, TO%, FTA, OREB% for both home team and away team, similary we will also have data that tells us how a team affects its opponents, EFG%, TO%, FTA and OREB%. With these features, we can analyze which teams are most likely to cover the spread. These features are important because with these features we are able to see who won the games in the past, if they won by a lot, and what Vegas predicted the winner to be previously.\n",
    "* This is a supervised machine learning problem because we are using specified labeled data as our inputs and expecting an output based on our training data (the inputs). The subset of supervised machine learning we are training in this project is classification.\n",
    "* The five algorithms that we are going to be testing are:\n",
    "  \n",
    "    *  Guassian Naive Bayes: For Naive Bayes, we assume that all feature variables are independent of one another. While this may be a hard assumption to make given the interconnectedness of our data, we are interested in seeing if Naive Bayes can still prove to be a viable option in predicting bets.\n",
    "    *  K Nearest Neighbors: An algorithm that groups the targets based on their distance from each other. We are using this because it is a standard classification algorithm and works for our data; if a team has high percentages and wins a lot, teams similar to it will expectedly have the same outcome.\n",
    "    *  Decision Tree: Finally, for decision tree, we make no assumptions. We are using this model because it is most similar to how humans think (Team A beat team B, so they must beat team C). \n",
    "    *  Linear SVC: Fit to the data we have returning the best fit hyperplane that divides our data. Then classifying the target variables by the features we give it. We are using this because we think from the graphs we have, we can see a direct separation between classes, more accurately made by a computer. \n",
    "    *  XGBoost: XGBoost, is another form of descision tree algorithims where it uses weaker and simpler algorithms to make a prediction on the target variable. We decided to use this as it may prove to be a stronger version of the decision tree.\n",
    "* For feature extraction, we plan on using RFE, similary, using MinMaxScaler, selection and grid search to improve our model."
   ]
  },
  {
   "cell_type": "markdown",
   "metadata": {
    "id": "H4sYAkNCQPdT"
   },
   "source": [
    "<a id=\"3\"></a>\n",
    "<hr style=\"height:2px; border:none; color:black; background-color:black;\">"
   ]
  },
  {
   "cell_type": "markdown",
   "metadata": {
    "id": "PrHPyfIdQPdT"
   },
   "source": [
    "## 3. RESULTS"
   ]
  },
  {
   "cell_type": "markdown",
   "metadata": {
    "id": "J5gyai6hQPdT"
   },
   "source": [
    "### 3.1. Data Wrangling"
   ]
  },
  {
   "cell_type": "markdown",
   "metadata": {
    "id": "sgU9oawkQPdU"
   },
   "source": [
    "#### Moving each game to its own row"
   ]
  },
  {
   "cell_type": "code",
   "execution_count": null,
   "metadata": {
    "id": "u-A4IM9SQPdU"
   },
   "outputs": [],
   "source": [
    "i = 0\n",
    "newodds = pd.DataFrame(columns = ['Date','GameID','HomeTeam', 'AwayTeam','HomeFinal', 'AwayFinal', 'HomeML', 'AwayML', 'Spread','Total','2HSpread','2HTotal'])\n",
    "# Iterate thru rows to combine two rows into one game\n",
    "while i<2342:\n",
    "    ser = pd.Series(dtype=object)\n",
    "    ser['Date'] = odds.loc[i]['Date']\n",
    "    ser['GameID'] = i/2\n",
    "    ser['HomeTeam'] = odds.loc[i+1]['Team']\n",
    "    ser['AwayTeam'] = odds.loc[i]['Team']\n",
    "    ser['HomeFinal'] = odds.loc[i+1]['Final']\n",
    "    ser['AwayFinal'] = odds.loc[i]['Final']\n",
    "    ser['HomeML'] = odds.loc[i+1]['ML']\n",
    "    ser['AwayML'] = odds.loc[i]['ML']\n",
    "    x = odds.loc[i+1]['Close']\n",
    "    if x == \"pk\":\n",
    "        x = float(0)\n",
    "    else:\n",
    "        x = float(x)\n",
    "    y = odds.loc[i]['Close']\n",
    "\n",
    "    # Sort out over/unders and spreads\n",
    "    if(y == \"pk\"):\n",
    "        y = float(0)\n",
    "    else:\n",
    "        y = float(y)\n",
    "    if (x < float(50)): \n",
    "        spread = x\n",
    "        overunder = y\n",
    "    else: \n",
    "        spread = y\n",
    "        overunder = x\n",
    "    if(float(ser['HomeML']) < float(ser['AwayML'])):\n",
    "        spread = spread * -1\n",
    "    ser['Spread'] = spread\n",
    "    ser['Total'] = overunder \n",
    "\n",
    "    # 2nd half spread/over under\n",
    "    x2 = odds.loc[i]['2H']\n",
    "    y2 = odds.loc[i+1]['2H']\n",
    "    if(x2 == \"pk\"):\n",
    "        x2 = float(0)\n",
    "    else:\n",
    "        x2 = float(x2)\n",
    "    if(y2 == \"pk\"):\n",
    "        y2 = float(0)\n",
    "    else:\n",
    "        y2 = float(y2)  \n",
    "    if (x2 < float(50)): \n",
    "        spread2 = x2\n",
    "        overunder2 = y2     \n",
    "    else: \n",
    "        spread2 = y2\n",
    "        overunder2 = x2\n",
    "    if(float(ser['HomeML']) < float(ser['AwayML'])):\n",
    "        spread2 = spread2 * -1\n",
    "    ser['2HSpread'] = spread2\n",
    "    ser['2HTotal'] = overunder2\n",
    "    newodds = newodds.append(ser, ignore_index=True)\n",
    "    i+=2"
   ]
  },
  {
   "cell_type": "markdown",
   "metadata": {
    "id": "3OjhA03lQPdU"
   },
   "source": [
    "#### Adding new columns"
   ]
  },
  {
   "cell_type": "code",
   "execution_count": null,
   "metadata": {
    "id": "p_s_6qp2QPdV"
   },
   "outputs": [],
   "source": [
    "newodds['Point Differential'] = newodds['AwayFinal'] - newodds['HomeFinal']\n",
    "newodds['RealTotal'] = newodds['AwayFinal'] + newodds['HomeFinal']\n",
    "newodds['Home Covers Spread?'] = newodds['Point Differential'] < newodds['Spread']\n",
    "newodds[\"Over Total?\"] = newodds['RealTotal'] > newodds['Total']\n",
    "\n",
    "# Convert true/false to 1 and 0\n",
    "tf_dict = {True: 1, False: 0}\n",
    "newodds['Home Covers Spread?'].replace(tf_dict, inplace = True)\n",
    "newodds[\"Over Total?\"].replace(tf_dict, inplace = True)\n",
    "\n",
    "#Converting odds from American to Decimal\n",
    "def oddsconvert(x):\n",
    "    if float(x)>0:\n",
    "        y = float(x)/100 + 1\n",
    "    else: \n",
    "        y = 1 + (100 / (float(x)*-1))\n",
    "    return y"
   ]
  },
  {
   "cell_type": "code",
   "execution_count": null,
   "metadata": {
    "id": "D9RA1vpuQPdV"
   },
   "outputs": [],
   "source": [
    "# Create dictionary mapping each team to an ID. These IDs match the indices of the four factors table\n",
    "teamToId = {\"Atlanta\": 0, \"Boston\": 1, \"Brooklyn\": 2, \"Charlotte\": 3, \"Chicago\": 4, \"Cleveland\": 5, \"Dallas\": 6, \n",
    "\"Denver\": 7, \"Detroit\": 8, \"GoldenState\": 9, \"Houston\": 10, \"Indiana\": 11, \"LAClippers\": 12, \"LALakers\": 13, \"Memphis\": 14,\n",
    "\"Miami\": 15, \"Milwaukee\": 16, \"Minnesota\": 17, \"NewOrleans\": 18, \"NewYork\": 19, \"OklahomaCity\": 20, \"Orlando\": 21, \"Philadelphia\": 22, \n",
    "\"Phoenix\": 23, \"Portland\": 24, \"Sacramento\": 25, \"SanAntonio\": 26, \"Toronto\": 27, \"Utah\": 28, \"Washington\": 29}"
   ]
  },
  {
   "cell_type": "code",
   "execution_count": null,
   "metadata": {
    "id": "O72NxVb_QPdV",
    "outputId": "27df4c46-ed27-4d20-8554-b6abccf524ed"
   },
   "outputs": [
    {
     "data": {
      "text/html": [
       "<div>\n",
       "<style scoped>\n",
       "    .dataframe tbody tr th:only-of-type {\n",
       "        vertical-align: middle;\n",
       "    }\n",
       "\n",
       "    .dataframe tbody tr th {\n",
       "        vertical-align: top;\n",
       "    }\n",
       "\n",
       "    .dataframe thead th {\n",
       "        text-align: right;\n",
       "    }\n",
       "</style>\n",
       "<table border=\"1\" class=\"dataframe\">\n",
       "  <thead>\n",
       "    <tr style=\"text-align: right;\">\n",
       "      <th></th>\n",
       "      <th>Date</th>\n",
       "      <th>GameID</th>\n",
       "      <th>HomeTeam</th>\n",
       "      <th>AwayTeam</th>\n",
       "      <th>HomeFinal</th>\n",
       "      <th>AwayFinal</th>\n",
       "      <th>HomeML</th>\n",
       "      <th>AwayML</th>\n",
       "      <th>Spread</th>\n",
       "      <th>Total</th>\n",
       "      <th>2HSpread</th>\n",
       "      <th>2HTotal</th>\n",
       "      <th>Point Differential</th>\n",
       "      <th>RealTotal</th>\n",
       "      <th>Home Covers Spread?</th>\n",
       "      <th>Over Total?</th>\n",
       "      <th>AwayML_Decimal</th>\n",
       "      <th>HomeML_Decimal</th>\n",
       "    </tr>\n",
       "  </thead>\n",
       "  <tbody>\n",
       "    <tr>\n",
       "      <th>0</th>\n",
       "      <td>1222.0</td>\n",
       "      <td>0.0</td>\n",
       "      <td>Brooklyn</td>\n",
       "      <td>GoldenState</td>\n",
       "      <td>125</td>\n",
       "      <td>99</td>\n",
       "      <td>-320</td>\n",
       "      <td>265</td>\n",
       "      <td>-7.5</td>\n",
       "      <td>234.5</td>\n",
       "      <td>-1.0</td>\n",
       "      <td>115.0</td>\n",
       "      <td>-26</td>\n",
       "      <td>224</td>\n",
       "      <td>1</td>\n",
       "      <td>0</td>\n",
       "      <td>3.650</td>\n",
       "      <td>1.312</td>\n",
       "    </tr>\n",
       "    <tr>\n",
       "      <th>1</th>\n",
       "      <td>1222.0</td>\n",
       "      <td>1.0</td>\n",
       "      <td>LALakers</td>\n",
       "      <td>LAClippers</td>\n",
       "      <td>109</td>\n",
       "      <td>116</td>\n",
       "      <td>-135</td>\n",
       "      <td>115</td>\n",
       "      <td>-2.0</td>\n",
       "      <td>219.0</td>\n",
       "      <td>-3.5</td>\n",
       "      <td>108.5</td>\n",
       "      <td>7</td>\n",
       "      <td>225</td>\n",
       "      <td>0</td>\n",
       "      <td>1</td>\n",
       "      <td>2.150</td>\n",
       "      <td>1.741</td>\n",
       "    </tr>\n",
       "    <tr>\n",
       "      <th>2</th>\n",
       "      <td>1223.0</td>\n",
       "      <td>2.0</td>\n",
       "      <td>Cleveland</td>\n",
       "      <td>Charlotte</td>\n",
       "      <td>121</td>\n",
       "      <td>114</td>\n",
       "      <td>120</td>\n",
       "      <td>-140</td>\n",
       "      <td>3.0</td>\n",
       "      <td>217.0</td>\n",
       "      <td>7.0</td>\n",
       "      <td>107.0</td>\n",
       "      <td>-7</td>\n",
       "      <td>235</td>\n",
       "      <td>1</td>\n",
       "      <td>1</td>\n",
       "      <td>1.714</td>\n",
       "      <td>2.200</td>\n",
       "    </tr>\n",
       "    <tr>\n",
       "      <th>3</th>\n",
       "      <td>1223.0</td>\n",
       "      <td>3.0</td>\n",
       "      <td>Indiana</td>\n",
       "      <td>NewYork</td>\n",
       "      <td>121</td>\n",
       "      <td>107</td>\n",
       "      <td>-330</td>\n",
       "      <td>270</td>\n",
       "      <td>-7.5</td>\n",
       "      <td>215.5</td>\n",
       "      <td>-7.5</td>\n",
       "      <td>107.5</td>\n",
       "      <td>-14</td>\n",
       "      <td>228</td>\n",
       "      <td>1</td>\n",
       "      <td>1</td>\n",
       "      <td>3.700</td>\n",
       "      <td>1.303</td>\n",
       "    </tr>\n",
       "    <tr>\n",
       "      <th>4</th>\n",
       "      <td>1223.0</td>\n",
       "      <td>4.0</td>\n",
       "      <td>Orlando</td>\n",
       "      <td>Miami</td>\n",
       "      <td>113</td>\n",
       "      <td>107</td>\n",
       "      <td>170</td>\n",
       "      <td>-190</td>\n",
       "      <td>4.5</td>\n",
       "      <td>219.0</td>\n",
       "      <td>5.0</td>\n",
       "      <td>106.5</td>\n",
       "      <td>-6</td>\n",
       "      <td>220</td>\n",
       "      <td>1</td>\n",
       "      <td>1</td>\n",
       "      <td>1.526</td>\n",
       "      <td>2.700</td>\n",
       "    </tr>\n",
       "    <tr>\n",
       "      <th>...</th>\n",
       "      <td>...</td>\n",
       "      <td>...</td>\n",
       "      <td>...</td>\n",
       "      <td>...</td>\n",
       "      <td>...</td>\n",
       "      <td>...</td>\n",
       "      <td>...</td>\n",
       "      <td>...</td>\n",
       "      <td>...</td>\n",
       "      <td>...</td>\n",
       "      <td>...</td>\n",
       "      <td>...</td>\n",
       "      <td>...</td>\n",
       "      <td>...</td>\n",
       "      <td>...</td>\n",
       "      <td>...</td>\n",
       "      <td>...</td>\n",
       "      <td>...</td>\n",
       "    </tr>\n",
       "    <tr>\n",
       "      <th>1166</th>\n",
       "      <td>708.0</td>\n",
       "      <td>1166.0</td>\n",
       "      <td>Phoenix</td>\n",
       "      <td>Milwaukee</td>\n",
       "      <td>118</td>\n",
       "      <td>108</td>\n",
       "      <td>-180</td>\n",
       "      <td>160</td>\n",
       "      <td>-4.5</td>\n",
       "      <td>221.0</td>\n",
       "      <td>-1.5</td>\n",
       "      <td>112.0</td>\n",
       "      <td>-10</td>\n",
       "      <td>226</td>\n",
       "      <td>1</td>\n",
       "      <td>1</td>\n",
       "      <td>2.600</td>\n",
       "      <td>1.556</td>\n",
       "    </tr>\n",
       "    <tr>\n",
       "      <th>1167</th>\n",
       "      <td>711.0</td>\n",
       "      <td>1167.0</td>\n",
       "      <td>Milwaukee</td>\n",
       "      <td>Phoenix</td>\n",
       "      <td>120</td>\n",
       "      <td>100</td>\n",
       "      <td>-210</td>\n",
       "      <td>180</td>\n",
       "      <td>-4.5</td>\n",
       "      <td>220.0</td>\n",
       "      <td>-3.0</td>\n",
       "      <td>113.0</td>\n",
       "      <td>-20</td>\n",
       "      <td>220</td>\n",
       "      <td>1</td>\n",
       "      <td>0</td>\n",
       "      <td>2.800</td>\n",
       "      <td>1.476</td>\n",
       "    </tr>\n",
       "    <tr>\n",
       "      <th>1168</th>\n",
       "      <td>714.0</td>\n",
       "      <td>1168.0</td>\n",
       "      <td>Milwaukee</td>\n",
       "      <td>Phoenix</td>\n",
       "      <td>109</td>\n",
       "      <td>103</td>\n",
       "      <td>-190</td>\n",
       "      <td>170</td>\n",
       "      <td>-4.5</td>\n",
       "      <td>221.0</td>\n",
       "      <td>-3.0</td>\n",
       "      <td>113.5</td>\n",
       "      <td>-6</td>\n",
       "      <td>212</td>\n",
       "      <td>1</td>\n",
       "      <td>0</td>\n",
       "      <td>2.700</td>\n",
       "      <td>1.526</td>\n",
       "    </tr>\n",
       "    <tr>\n",
       "      <th>1169</th>\n",
       "      <td>717.0</td>\n",
       "      <td>1169.0</td>\n",
       "      <td>Phoenix</td>\n",
       "      <td>Milwaukee</td>\n",
       "      <td>119</td>\n",
       "      <td>123</td>\n",
       "      <td>-170</td>\n",
       "      <td>150</td>\n",
       "      <td>-4.0</td>\n",
       "      <td>220.0</td>\n",
       "      <td>-4.0</td>\n",
       "      <td>112.5</td>\n",
       "      <td>4</td>\n",
       "      <td>242</td>\n",
       "      <td>0</td>\n",
       "      <td>1</td>\n",
       "      <td>2.500</td>\n",
       "      <td>1.588</td>\n",
       "    </tr>\n",
       "    <tr>\n",
       "      <th>1170</th>\n",
       "      <td>720.0</td>\n",
       "      <td>1170.0</td>\n",
       "      <td>Milwaukee</td>\n",
       "      <td>Phoenix</td>\n",
       "      <td>105</td>\n",
       "      <td>98</td>\n",
       "      <td>-190</td>\n",
       "      <td>170</td>\n",
       "      <td>-4.5</td>\n",
       "      <td>221.0</td>\n",
       "      <td>-3.5</td>\n",
       "      <td>112.5</td>\n",
       "      <td>-7</td>\n",
       "      <td>203</td>\n",
       "      <td>1</td>\n",
       "      <td>0</td>\n",
       "      <td>2.700</td>\n",
       "      <td>1.526</td>\n",
       "    </tr>\n",
       "  </tbody>\n",
       "</table>\n",
       "<p>1171 rows × 18 columns</p>\n",
       "</div>"
      ]
     },
     "metadata": {},
     "output_type": "display_data"
    }
   ],
   "source": [
    "# Add columns representing the decimal odds\n",
    "newodds['AwayML_Decimal'] = newodds['AwayML'].apply(oddsconvert).round(3)\n",
    "newodds['HomeML_Decimal'] = newodds['HomeML'].apply(oddsconvert).round(3)\n",
    "newodds"
   ]
  },
  {
   "cell_type": "code",
   "execution_count": null,
   "metadata": {
    "id": "799_asgxQPdV"
   },
   "outputs": [],
   "source": [
    "fourfactors = pd.read_csv(\"updated4factors - Sheet2.csv\")"
   ]
  },
  {
   "cell_type": "code",
   "execution_count": null,
   "metadata": {
    "id": "2efuyhaRQPdW",
    "outputId": "9afa55bc-18d6-41af-ce42-091f0ba4ff5e"
   },
   "outputs": [
    {
     "data": {
      "text/html": [
       "<div>\n",
       "<style scoped>\n",
       "    .dataframe tbody tr th:only-of-type {\n",
       "        vertical-align: middle;\n",
       "    }\n",
       "\n",
       "    .dataframe tbody tr th {\n",
       "        vertical-align: top;\n",
       "    }\n",
       "\n",
       "    .dataframe thead th {\n",
       "        text-align: right;\n",
       "    }\n",
       "</style>\n",
       "<table border=\"1\" class=\"dataframe\">\n",
       "  <thead>\n",
       "    <tr style=\"text-align: right;\">\n",
       "      <th></th>\n",
       "      <th>Date</th>\n",
       "      <th>GameID</th>\n",
       "      <th>HomeTeam</th>\n",
       "      <th>AwayTeam</th>\n",
       "      <th>HomeFinal</th>\n",
       "      <th>AwayFinal</th>\n",
       "      <th>HomeML</th>\n",
       "      <th>AwayML</th>\n",
       "      <th>Spread</th>\n",
       "      <th>Total</th>\n",
       "      <th>2HSpread</th>\n",
       "      <th>2HTotal</th>\n",
       "      <th>Point Differential</th>\n",
       "      <th>RealTotal</th>\n",
       "      <th>Home Covers Spread?</th>\n",
       "      <th>Over Total?</th>\n",
       "      <th>AwayML_Decimal</th>\n",
       "      <th>HomeML_Decimal</th>\n",
       "    </tr>\n",
       "  </thead>\n",
       "  <tbody>\n",
       "    <tr>\n",
       "      <th>0</th>\n",
       "      <td>1222.0</td>\n",
       "      <td>0.0</td>\n",
       "      <td>2</td>\n",
       "      <td>9</td>\n",
       "      <td>125</td>\n",
       "      <td>99</td>\n",
       "      <td>-320</td>\n",
       "      <td>265</td>\n",
       "      <td>-7.5</td>\n",
       "      <td>234.5</td>\n",
       "      <td>-1.0</td>\n",
       "      <td>115.0</td>\n",
       "      <td>-26</td>\n",
       "      <td>224</td>\n",
       "      <td>1</td>\n",
       "      <td>0</td>\n",
       "      <td>3.650</td>\n",
       "      <td>1.312</td>\n",
       "    </tr>\n",
       "    <tr>\n",
       "      <th>1</th>\n",
       "      <td>1222.0</td>\n",
       "      <td>1.0</td>\n",
       "      <td>13</td>\n",
       "      <td>12</td>\n",
       "      <td>109</td>\n",
       "      <td>116</td>\n",
       "      <td>-135</td>\n",
       "      <td>115</td>\n",
       "      <td>-2.0</td>\n",
       "      <td>219.0</td>\n",
       "      <td>-3.5</td>\n",
       "      <td>108.5</td>\n",
       "      <td>7</td>\n",
       "      <td>225</td>\n",
       "      <td>0</td>\n",
       "      <td>1</td>\n",
       "      <td>2.150</td>\n",
       "      <td>1.741</td>\n",
       "    </tr>\n",
       "    <tr>\n",
       "      <th>2</th>\n",
       "      <td>1223.0</td>\n",
       "      <td>2.0</td>\n",
       "      <td>5</td>\n",
       "      <td>3</td>\n",
       "      <td>121</td>\n",
       "      <td>114</td>\n",
       "      <td>120</td>\n",
       "      <td>-140</td>\n",
       "      <td>3.0</td>\n",
       "      <td>217.0</td>\n",
       "      <td>7.0</td>\n",
       "      <td>107.0</td>\n",
       "      <td>-7</td>\n",
       "      <td>235</td>\n",
       "      <td>1</td>\n",
       "      <td>1</td>\n",
       "      <td>1.714</td>\n",
       "      <td>2.200</td>\n",
       "    </tr>\n",
       "    <tr>\n",
       "      <th>3</th>\n",
       "      <td>1223.0</td>\n",
       "      <td>3.0</td>\n",
       "      <td>11</td>\n",
       "      <td>19</td>\n",
       "      <td>121</td>\n",
       "      <td>107</td>\n",
       "      <td>-330</td>\n",
       "      <td>270</td>\n",
       "      <td>-7.5</td>\n",
       "      <td>215.5</td>\n",
       "      <td>-7.5</td>\n",
       "      <td>107.5</td>\n",
       "      <td>-14</td>\n",
       "      <td>228</td>\n",
       "      <td>1</td>\n",
       "      <td>1</td>\n",
       "      <td>3.700</td>\n",
       "      <td>1.303</td>\n",
       "    </tr>\n",
       "    <tr>\n",
       "      <th>4</th>\n",
       "      <td>1223.0</td>\n",
       "      <td>4.0</td>\n",
       "      <td>21</td>\n",
       "      <td>15</td>\n",
       "      <td>113</td>\n",
       "      <td>107</td>\n",
       "      <td>170</td>\n",
       "      <td>-190</td>\n",
       "      <td>4.5</td>\n",
       "      <td>219.0</td>\n",
       "      <td>5.0</td>\n",
       "      <td>106.5</td>\n",
       "      <td>-6</td>\n",
       "      <td>220</td>\n",
       "      <td>1</td>\n",
       "      <td>1</td>\n",
       "      <td>1.526</td>\n",
       "      <td>2.700</td>\n",
       "    </tr>\n",
       "    <tr>\n",
       "      <th>...</th>\n",
       "      <td>...</td>\n",
       "      <td>...</td>\n",
       "      <td>...</td>\n",
       "      <td>...</td>\n",
       "      <td>...</td>\n",
       "      <td>...</td>\n",
       "      <td>...</td>\n",
       "      <td>...</td>\n",
       "      <td>...</td>\n",
       "      <td>...</td>\n",
       "      <td>...</td>\n",
       "      <td>...</td>\n",
       "      <td>...</td>\n",
       "      <td>...</td>\n",
       "      <td>...</td>\n",
       "      <td>...</td>\n",
       "      <td>...</td>\n",
       "      <td>...</td>\n",
       "    </tr>\n",
       "    <tr>\n",
       "      <th>1166</th>\n",
       "      <td>708.0</td>\n",
       "      <td>1166.0</td>\n",
       "      <td>23</td>\n",
       "      <td>16</td>\n",
       "      <td>118</td>\n",
       "      <td>108</td>\n",
       "      <td>-180</td>\n",
       "      <td>160</td>\n",
       "      <td>-4.5</td>\n",
       "      <td>221.0</td>\n",
       "      <td>-1.5</td>\n",
       "      <td>112.0</td>\n",
       "      <td>-10</td>\n",
       "      <td>226</td>\n",
       "      <td>1</td>\n",
       "      <td>1</td>\n",
       "      <td>2.600</td>\n",
       "      <td>1.556</td>\n",
       "    </tr>\n",
       "    <tr>\n",
       "      <th>1167</th>\n",
       "      <td>711.0</td>\n",
       "      <td>1167.0</td>\n",
       "      <td>16</td>\n",
       "      <td>23</td>\n",
       "      <td>120</td>\n",
       "      <td>100</td>\n",
       "      <td>-210</td>\n",
       "      <td>180</td>\n",
       "      <td>-4.5</td>\n",
       "      <td>220.0</td>\n",
       "      <td>-3.0</td>\n",
       "      <td>113.0</td>\n",
       "      <td>-20</td>\n",
       "      <td>220</td>\n",
       "      <td>1</td>\n",
       "      <td>0</td>\n",
       "      <td>2.800</td>\n",
       "      <td>1.476</td>\n",
       "    </tr>\n",
       "    <tr>\n",
       "      <th>1168</th>\n",
       "      <td>714.0</td>\n",
       "      <td>1168.0</td>\n",
       "      <td>16</td>\n",
       "      <td>23</td>\n",
       "      <td>109</td>\n",
       "      <td>103</td>\n",
       "      <td>-190</td>\n",
       "      <td>170</td>\n",
       "      <td>-4.5</td>\n",
       "      <td>221.0</td>\n",
       "      <td>-3.0</td>\n",
       "      <td>113.5</td>\n",
       "      <td>-6</td>\n",
       "      <td>212</td>\n",
       "      <td>1</td>\n",
       "      <td>0</td>\n",
       "      <td>2.700</td>\n",
       "      <td>1.526</td>\n",
       "    </tr>\n",
       "    <tr>\n",
       "      <th>1169</th>\n",
       "      <td>717.0</td>\n",
       "      <td>1169.0</td>\n",
       "      <td>23</td>\n",
       "      <td>16</td>\n",
       "      <td>119</td>\n",
       "      <td>123</td>\n",
       "      <td>-170</td>\n",
       "      <td>150</td>\n",
       "      <td>-4.0</td>\n",
       "      <td>220.0</td>\n",
       "      <td>-4.0</td>\n",
       "      <td>112.5</td>\n",
       "      <td>4</td>\n",
       "      <td>242</td>\n",
       "      <td>0</td>\n",
       "      <td>1</td>\n",
       "      <td>2.500</td>\n",
       "      <td>1.588</td>\n",
       "    </tr>\n",
       "    <tr>\n",
       "      <th>1170</th>\n",
       "      <td>720.0</td>\n",
       "      <td>1170.0</td>\n",
       "      <td>16</td>\n",
       "      <td>23</td>\n",
       "      <td>105</td>\n",
       "      <td>98</td>\n",
       "      <td>-190</td>\n",
       "      <td>170</td>\n",
       "      <td>-4.5</td>\n",
       "      <td>221.0</td>\n",
       "      <td>-3.5</td>\n",
       "      <td>112.5</td>\n",
       "      <td>-7</td>\n",
       "      <td>203</td>\n",
       "      <td>1</td>\n",
       "      <td>0</td>\n",
       "      <td>2.700</td>\n",
       "      <td>1.526</td>\n",
       "    </tr>\n",
       "  </tbody>\n",
       "</table>\n",
       "<p>1171 rows × 18 columns</p>\n",
       "</div>"
      ]
     },
     "metadata": {},
     "output_type": "display_data"
    }
   ],
   "source": [
    "# Convert city names to IDs from teamToId dictionary\n",
    "newodds[\"HomeTeam\"].replace(teamToId, inplace=True)\n",
    "newodds[\"AwayTeam\"].replace(teamToId, inplace=True)\n",
    "newodds"
   ]
  },
  {
   "cell_type": "code",
   "execution_count": null,
   "metadata": {
    "id": "4Wo4ffMXQPdW"
   },
   "outputs": [],
   "source": [
    "def getFFStat(teamId, col):\n",
    "    \"\"\"Obtains four factor stat given team id and column name\n",
    "    \n",
    "        Args:\n",
    "            teamId (number): The team id according to the teamToID dictionary\n",
    "            col (String): The column in the four factor DataFrame representing the desired statistic\n",
    "            \n",
    "        Returns:\n",
    "            stat (number): The four factor statistic of the given teamId\n",
    "    \"\"\"\n",
    "    stat = fourfactors.loc[teamId, col]\n",
    "    return stat"
   ]
  },
  {
   "cell_type": "code",
   "execution_count": null,
   "metadata": {
    "id": "IIF3-_WoQPdW",
    "outputId": "e481b724-c120-4cc0-9b62-78e2dbeb8653"
   },
   "outputs": [
    {
     "data": {
      "text/html": [
       "<div>\n",
       "<style scoped>\n",
       "    .dataframe tbody tr th:only-of-type {\n",
       "        vertical-align: middle;\n",
       "    }\n",
       "\n",
       "    .dataframe tbody tr th {\n",
       "        vertical-align: top;\n",
       "    }\n",
       "\n",
       "    .dataframe thead th {\n",
       "        text-align: right;\n",
       "    }\n",
       "</style>\n",
       "<table border=\"1\" class=\"dataframe\">\n",
       "  <thead>\n",
       "    <tr style=\"text-align: right;\">\n",
       "      <th></th>\n",
       "      <th>Date</th>\n",
       "      <th>GameID</th>\n",
       "      <th>HomeTeam</th>\n",
       "      <th>AwayTeam</th>\n",
       "      <th>HomeFinal</th>\n",
       "      <th>AwayFinal</th>\n",
       "      <th>HomeML</th>\n",
       "      <th>AwayML</th>\n",
       "      <th>Spread</th>\n",
       "      <th>Total</th>\n",
       "      <th>...</th>\n",
       "      <th>HomeOREB%</th>\n",
       "      <th>AwayOREB%</th>\n",
       "      <th>HomeOPP\\nEFG%</th>\n",
       "      <th>AwayOPP\\nEFG%</th>\n",
       "      <th>HomeOPP\\nFTA RATE</th>\n",
       "      <th>AwayOPP\\nFTA RATE</th>\n",
       "      <th>HomeOPP\\nTOV%</th>\n",
       "      <th>AwayOPP\\nTOV%</th>\n",
       "      <th>HomeOPP\\nOREB%</th>\n",
       "      <th>AwayOPP\\nOREB%</th>\n",
       "    </tr>\n",
       "  </thead>\n",
       "  <tbody>\n",
       "    <tr>\n",
       "      <th>0</th>\n",
       "      <td>1222.0</td>\n",
       "      <td>0.0</td>\n",
       "      <td>2</td>\n",
       "      <td>9</td>\n",
       "      <td>125</td>\n",
       "      <td>99</td>\n",
       "      <td>-320</td>\n",
       "      <td>265</td>\n",
       "      <td>-7.5</td>\n",
       "      <td>234.5</td>\n",
       "      <td>...</td>\n",
       "      <td>25.2</td>\n",
       "      <td>22.2</td>\n",
       "      <td>53.1</td>\n",
       "      <td>52.2</td>\n",
       "      <td>0.241</td>\n",
       "      <td>0.286</td>\n",
       "      <td>12.5</td>\n",
       "      <td>14.6</td>\n",
       "      <td>27.4</td>\n",
       "      <td>27.3</td>\n",
       "    </tr>\n",
       "    <tr>\n",
       "      <th>1</th>\n",
       "      <td>1222.0</td>\n",
       "      <td>1.0</td>\n",
       "      <td>13</td>\n",
       "      <td>12</td>\n",
       "      <td>109</td>\n",
       "      <td>116</td>\n",
       "      <td>-135</td>\n",
       "      <td>115</td>\n",
       "      <td>-2.0</td>\n",
       "      <td>219.0</td>\n",
       "      <td>...</td>\n",
       "      <td>26.9</td>\n",
       "      <td>27.0</td>\n",
       "      <td>52.6</td>\n",
       "      <td>53.1</td>\n",
       "      <td>0.237</td>\n",
       "      <td>0.239</td>\n",
       "      <td>15.2</td>\n",
       "      <td>13.2</td>\n",
       "      <td>25.2</td>\n",
       "      <td>24.6</td>\n",
       "    </tr>\n",
       "    <tr>\n",
       "      <th>2</th>\n",
       "      <td>1223.0</td>\n",
       "      <td>2.0</td>\n",
       "      <td>5</td>\n",
       "      <td>3</td>\n",
       "      <td>121</td>\n",
       "      <td>114</td>\n",
       "      <td>120</td>\n",
       "      <td>-140</td>\n",
       "      <td>3.0</td>\n",
       "      <td>217.0</td>\n",
       "      <td>...</td>\n",
       "      <td>28.0</td>\n",
       "      <td>27.6</td>\n",
       "      <td>55.6</td>\n",
       "      <td>55.0</td>\n",
       "      <td>0.235</td>\n",
       "      <td>0.219</td>\n",
       "      <td>14.5</td>\n",
       "      <td>14.8</td>\n",
       "      <td>27.1</td>\n",
       "      <td>27.8</td>\n",
       "    </tr>\n",
       "    <tr>\n",
       "      <th>3</th>\n",
       "      <td>1223.0</td>\n",
       "      <td>3.0</td>\n",
       "      <td>11</td>\n",
       "      <td>19</td>\n",
       "      <td>121</td>\n",
       "      <td>107</td>\n",
       "      <td>-330</td>\n",
       "      <td>270</td>\n",
       "      <td>-7.5</td>\n",
       "      <td>215.5</td>\n",
       "      <td>...</td>\n",
       "      <td>24.7</td>\n",
       "      <td>26.4</td>\n",
       "      <td>53.1</td>\n",
       "      <td>50.9</td>\n",
       "      <td>0.258</td>\n",
       "      <td>0.257</td>\n",
       "      <td>14.4</td>\n",
       "      <td>13.1</td>\n",
       "      <td>29.9</td>\n",
       "      <td>26.2</td>\n",
       "    </tr>\n",
       "    <tr>\n",
       "      <th>4</th>\n",
       "      <td>1223.0</td>\n",
       "      <td>4.0</td>\n",
       "      <td>21</td>\n",
       "      <td>15</td>\n",
       "      <td>113</td>\n",
       "      <td>107</td>\n",
       "      <td>170</td>\n",
       "      <td>-190</td>\n",
       "      <td>4.5</td>\n",
       "      <td>219.0</td>\n",
       "      <td>...</td>\n",
       "      <td>25.2</td>\n",
       "      <td>24.0</td>\n",
       "      <td>54.7</td>\n",
       "      <td>54.2</td>\n",
       "      <td>0.215</td>\n",
       "      <td>0.234</td>\n",
       "      <td>12.8</td>\n",
       "      <td>15.4</td>\n",
       "      <td>25.6</td>\n",
       "      <td>26.7</td>\n",
       "    </tr>\n",
       "    <tr>\n",
       "      <th>...</th>\n",
       "      <td>...</td>\n",
       "      <td>...</td>\n",
       "      <td>...</td>\n",
       "      <td>...</td>\n",
       "      <td>...</td>\n",
       "      <td>...</td>\n",
       "      <td>...</td>\n",
       "      <td>...</td>\n",
       "      <td>...</td>\n",
       "      <td>...</td>\n",
       "      <td>...</td>\n",
       "      <td>...</td>\n",
       "      <td>...</td>\n",
       "      <td>...</td>\n",
       "      <td>...</td>\n",
       "      <td>...</td>\n",
       "      <td>...</td>\n",
       "      <td>...</td>\n",
       "      <td>...</td>\n",
       "      <td>...</td>\n",
       "      <td>...</td>\n",
       "    </tr>\n",
       "    <tr>\n",
       "      <th>1166</th>\n",
       "      <td>708.0</td>\n",
       "      <td>1166.0</td>\n",
       "      <td>23</td>\n",
       "      <td>16</td>\n",
       "      <td>118</td>\n",
       "      <td>108</td>\n",
       "      <td>-180</td>\n",
       "      <td>160</td>\n",
       "      <td>-4.5</td>\n",
       "      <td>221.0</td>\n",
       "      <td>...</td>\n",
       "      <td>24.8</td>\n",
       "      <td>26.9</td>\n",
       "      <td>53.4</td>\n",
       "      <td>53.6</td>\n",
       "      <td>0.250</td>\n",
       "      <td>0.202</td>\n",
       "      <td>13.7</td>\n",
       "      <td>12.7</td>\n",
       "      <td>25.9</td>\n",
       "      <td>24.5</td>\n",
       "    </tr>\n",
       "    <tr>\n",
       "      <th>1167</th>\n",
       "      <td>711.0</td>\n",
       "      <td>1167.0</td>\n",
       "      <td>16</td>\n",
       "      <td>23</td>\n",
       "      <td>120</td>\n",
       "      <td>100</td>\n",
       "      <td>-210</td>\n",
       "      <td>180</td>\n",
       "      <td>-4.5</td>\n",
       "      <td>220.0</td>\n",
       "      <td>...</td>\n",
       "      <td>26.9</td>\n",
       "      <td>24.8</td>\n",
       "      <td>53.6</td>\n",
       "      <td>53.4</td>\n",
       "      <td>0.202</td>\n",
       "      <td>0.250</td>\n",
       "      <td>12.7</td>\n",
       "      <td>13.7</td>\n",
       "      <td>24.5</td>\n",
       "      <td>25.9</td>\n",
       "    </tr>\n",
       "    <tr>\n",
       "      <th>1168</th>\n",
       "      <td>714.0</td>\n",
       "      <td>1168.0</td>\n",
       "      <td>16</td>\n",
       "      <td>23</td>\n",
       "      <td>109</td>\n",
       "      <td>103</td>\n",
       "      <td>-190</td>\n",
       "      <td>170</td>\n",
       "      <td>-4.5</td>\n",
       "      <td>221.0</td>\n",
       "      <td>...</td>\n",
       "      <td>26.9</td>\n",
       "      <td>24.8</td>\n",
       "      <td>53.6</td>\n",
       "      <td>53.4</td>\n",
       "      <td>0.202</td>\n",
       "      <td>0.250</td>\n",
       "      <td>12.7</td>\n",
       "      <td>13.7</td>\n",
       "      <td>24.5</td>\n",
       "      <td>25.9</td>\n",
       "    </tr>\n",
       "    <tr>\n",
       "      <th>1169</th>\n",
       "      <td>717.0</td>\n",
       "      <td>1169.0</td>\n",
       "      <td>23</td>\n",
       "      <td>16</td>\n",
       "      <td>119</td>\n",
       "      <td>123</td>\n",
       "      <td>-170</td>\n",
       "      <td>150</td>\n",
       "      <td>-4.0</td>\n",
       "      <td>220.0</td>\n",
       "      <td>...</td>\n",
       "      <td>24.8</td>\n",
       "      <td>26.9</td>\n",
       "      <td>53.4</td>\n",
       "      <td>53.6</td>\n",
       "      <td>0.250</td>\n",
       "      <td>0.202</td>\n",
       "      <td>13.7</td>\n",
       "      <td>12.7</td>\n",
       "      <td>25.9</td>\n",
       "      <td>24.5</td>\n",
       "    </tr>\n",
       "    <tr>\n",
       "      <th>1170</th>\n",
       "      <td>720.0</td>\n",
       "      <td>1170.0</td>\n",
       "      <td>16</td>\n",
       "      <td>23</td>\n",
       "      <td>105</td>\n",
       "      <td>98</td>\n",
       "      <td>-190</td>\n",
       "      <td>170</td>\n",
       "      <td>-4.5</td>\n",
       "      <td>221.0</td>\n",
       "      <td>...</td>\n",
       "      <td>26.9</td>\n",
       "      <td>24.8</td>\n",
       "      <td>53.6</td>\n",
       "      <td>53.4</td>\n",
       "      <td>0.202</td>\n",
       "      <td>0.250</td>\n",
       "      <td>12.7</td>\n",
       "      <td>13.7</td>\n",
       "      <td>24.5</td>\n",
       "      <td>25.9</td>\n",
       "    </tr>\n",
       "  </tbody>\n",
       "</table>\n",
       "<p>1171 rows × 36 columns</p>\n",
       "</div>"
      ]
     },
     "metadata": {},
     "output_type": "display_data"
    }
   ],
   "source": [
    "# Create new columns for every four factor stat\n",
    "columns = ['WIN%', 'EFG%', 'FTA\\nRATE', 'TOV%', 'OREB%', 'OPP\\nEFG%', 'OPP\\nFTA RATE', 'OPP\\nTOV%', 'OPP\\nOREB%']\n",
    "for column in columns:\n",
    "    homeStr = \"Home\" + column\n",
    "    awayStr = \"Away\" + column\n",
    "    newodds[homeStr] = newodds[\"HomeTeam\"].apply(getFFStat, args = (column, ))\n",
    "    newodds[awayStr] = newodds[\"AwayTeam\"].apply(getFFStat, args = (column, ))\n",
    "newodds"
   ]
  },
  {
   "cell_type": "markdown",
   "metadata": {
    "id": "vVHryCZzQPdW"
   },
   "source": [
    "### 3.2. Data Exploration\n",
    "* Generate appropriate data visualizations for your key variables identified in the previous section\n",
    "* You should have at least three visualizations (and at least two different visualization types)\n",
    "* For each visualization provide an explanation regarding the variables involved and an interpretation of the graph. In other words, what does the graph represent?\n",
    "* Insert your visualizations as images as well (upload the graph images to an online source, e.g. github or imgbb, and embed those into the cells in Jupyter Notebook, similar to HWs). This is a requirement."
   ]
  },
  {
   "cell_type": "code",
   "execution_count": null,
   "metadata": {
    "id": "2bCZlk2HQPdW",
    "outputId": "5b152a15-062d-45e0-9b5d-e5b7c4ebbb64"
   },
   "outputs": [
    {
     "data": {
      "image/png": "[encoded data removed]",
      "text/plain": [
       "Text(0.5, 1.0, 'Comparison of Home and Away Moneyline Odds')"
      ]
     },
     "metadata": {
      "image/png": {}
     },
     "output_type": "display_data"
    }
   ],
   "source": [
    "# Graph 1\n",
    "\n",
    "sns.scatterplot(x = 'AwayML_Decimal', y = 'HomeML_Decimal', data = newodds, \n",
    "                hue = 'Home Covers Spread?').set_title(\"Comparison of Home and Away Moneyline Odds\")"
   ]
  },
  {
   "cell_type": "markdown",
   "metadata": {
    "id": "ZJqu7PPzQPdX"
   },
   "source": [
    "<img src = \"https://i.ibb.co/6nfTvkc/Screen-Shot-2021-12-02-at-5-11-58-PM.png\" width=400/>"
   ]
  },
  {
   "cell_type": "markdown",
   "metadata": {
    "id": "BZxCSLyAQPdX"
   },
   "source": [
    "#### Graph 1 Explanation\n",
    "\n",
    "This graph is showing a distribution of the Odds for each game of the 2020-2021 NBA season. Here, the\n",
    "odds are converted to decimal from american odds. For example, if the money line of a team is 2.2, you\n",
    "would receive 22 from a 10 bet if it won (a profit of 12). In the American odds system, the moneyline\n",
    "would be +120 instead of 2.2. The difference in the dot colors is whether the home team covers the spread.\n",
    "Covering the spread is where a team won or by a predetermined margin of points, typically set by Vegas\n",
    "oddsmakers. If a team was +5, they would cover the spread if they won or if they lost by less than 5. Some\n",
    "interesting trends on this graph are where the big clusters of orange dots are. One of these is when the\n",
    "Home team moneyline is between 3 and 5. This means the team was a slight underdog, and the\n",
    "overwhelming majority of orange dots means that they had a very high probability of covering their\n",
    "pregame spread. Another one of these clusters shows up when the Away team moneyline is between 8 and\n",
    "10. A moneyline at 8 would payout 8 to 1, so these teams are massive underdogs. This cluster of dots also\n",
    "shows that the Home team covers at an overwhelming rate, even though the spread is much bigger. These\n",
    "graphs can help us identify trends in the sports betting market, and help us build our models."
   ]
  },
  {
   "cell_type": "code",
   "execution_count": null,
   "metadata": {
    "id": "koznNOn5QPdX",
    "outputId": "ba22967c-6f6b-4bf8-a6b9-afda2b62df4d"
   },
   "outputs": [
    {
     "data": {
      "image/png": "[encoded data removed]",
      "text/plain": [
       "<matplotlib.legend.Legend at 0x7f62037f9130>"
      ]
     },
     "metadata": {
      "image/png": {}
     },
     "output_type": "display_data"
    }
   ],
   "source": [
    "#Graph 2\n",
    "\n",
    "sns.set(style=\"darkgrid\")\n",
    "sns.scatterplot(x = 'AwayFinal', y = 'HomeFinal', data = newodds,\n",
    "hue = 'Home Covers Spread?').set_title(\"Home Team Versus Away Team Score in Relation to Covering the Spread\")\n",
    "plt.legend(title='Home Covers Spread?', labels=['True', 'False'], bbox_to_anchor=(1.05, 1), loc=2, borderaxespad=0.)"
   ]
  },
  {
   "cell_type": "markdown",
   "metadata": {
    "id": "WXjp8WFfQPdX"
   },
   "source": [
    "<img src = \"https://i.ibb.co/myck5yV/Screen-Shot-2021-12-02-at-5-18-24-PM.png\" width=400/>"
   ]
  },
  {
   "cell_type": "markdown",
   "metadata": {
    "id": "oFpO3fceQPdX"
   },
   "source": [
    "#### Graph 2 Explanation\n",
    "In this graph here, “Home Team Versus Away Team Score in Relation to Covering the Spread,” there is an\n",
    "interesting point to be made about the distribution of points. Each point on the graph represents an NBA\n",
    "game played in the 2020-2021 season. The y-axis in this graph is the home team’s final score, and the\n",
    "x-axis represents the away team’s final score. This can be interpreted as if a point seems higher on the\n",
    "graph than it is to the right, the home team wins. The color of each dot is important to note as well, the\n",
    "blue color represents when the home team does not cover the spread. The orange dot represents when the\n",
    "home team does cover the spread. When a team covers the spread it means this, for example, there is a\n",
    "game being played by Team A and Team B, the spread of this game is +4 in favor of Team A, which means\n",
    "it is -4 for Team B. A simple way to understand this is, if a team is not the favored team (Team B), then\n",
    "they get a 4 point handicap, basically meaning they would start the game with a 4-0 start (in the betting\n",
    "world). This means Team A is better because they are expected to overcome this gap and still win. What\n",
    "this graph shows us is the distribution of the points. We can see that if the home team wins then they are\n",
    "most likely to cover the spread. This helps us understand two things that help shape our model, the home\n",
    "team can be reasonably expected to be favored (as long as the teams are not a clear mismatch in skill),\n",
    "which also helps show us that more often than not, if there is not a rather large discrepancy between the\n",
    "teams skill, the Vegas odds will most likely favor the home team because of home court advantage. This is\n",
    "all noticeable because the orange points are more often than not above the blue points on the left side of\n",
    "the graph. Remember from before, if the point is higher up than it is to the right, we can easily see that the\n",
    "home team won. These are some important features we see from this graph and will help us in defining\n",
    "key features in our model."
   ]
  },
  {
   "cell_type": "code",
   "execution_count": null,
   "metadata": {
    "id": "RPVQ5eYfQPdX",
    "outputId": "a24d8001-9d1c-481e-bedd-970fe45300aa"
   },
   "outputs": [
    {
     "data": {
      "image/png": "[encoded data removed]",
      "text/plain": [
       "Text(0.5, 1.0, 'Teams EFG% compared to Games Won')"
      ]
     },
     "metadata": {
      "image/png": {}
     },
     "output_type": "display_data"
    }
   ],
   "source": [
    "#Graph 3\n",
    "\n",
    "sns.set(style=\"darkgrid\")\n",
    "sns.scatterplot(x = 'W', y = 'EFG%', data = fourfactors).set_title(\"Teams EFG% compared to Games Won\")"
   ]
  },
  {
   "cell_type": "markdown",
   "metadata": {
    "id": "JlPxYgEgQPdY"
   },
   "source": [
    "<img src = https://i.ibb.co/z6DgcGT/Screen-Shot-2021-12-07-at-5-03-19-PM.png width=400/>"
   ]
  },
  {
   "cell_type": "markdown",
   "metadata": {
    "id": "bpEtfnipQPdY"
   },
   "source": [
    "#### Graph 3 Explanation\n",
    "\n",
    "In this graph we are comparing a teams effective field goal percentage with the number of wins they had in the regular season. On the y-axis we have the EFG% and the x-axis we have the total wins per team. Each dot on the graph represents a team. We see a pretty strong positive correlation between these two variables. The higher the teams EFG% is the more wins they will have. This is super important for our model as we are essentially trying to figure out which team is going to win. This EFG% stat is basically the % of shots that a team takes that goes in, so with that being said, if you make more than 56% of your shots, you are most likely going to win a lot, and we see this reflected on the graph. Similarly, we see that teams with below a 50% EFG rating are the teams with less than 25 wins. This is a super important stat for our model and are implementing it."
   ]
  },
  {
   "cell_type": "code",
   "execution_count": null,
   "metadata": {
    "id": "xYZBV3IXQPdY"
   },
   "outputs": [],
   "source": [
    "#Graph 4"
   ]
  },
  {
   "cell_type": "markdown",
   "metadata": {
    "id": "4YskDHOOQPdY"
   },
   "source": [
    "\n",
    "\n",
    "<img src = \"https://i.ibb.co/HKM1yvP/Screen-Shot-2021-12-08-at-2-52-56-PM.png\" width=400/>"
   ]
  },
  {
   "cell_type": "markdown",
   "metadata": {
    "id": "z5efcrpFQPdY"
   },
   "source": [
    "In this graph we have feature importance. If you scroll down a bit in 3.3, you will see the code for this graph in a cell with a comment above saying \"feature importance graph\". Before selecting features, we decided to use feature importance using the XGBoost algorithim due to its strong classification accuracy. In this we can see the featuers on the bottom and the importance on the y-axis. The features are not labeled but if we count from the right, we know that features: 1,3, 8, 9 and 11 show the most importance. These features are: AwayOPP OREB% (away opponents offensive rebound percentage), AwayOPP TOV% (away opponents turnover percentage), AwayOpp EFG%, (away opponents effective field goal percentage), AwayTOV% (away turnover percentage) and AwayOREB% (away offensive rebound percentage). These features actually tell us a lot. The fact that home teams win 60% of NBA games and the most importance features is the away team's ability to hinder an opponent's offense and rebounding is indicivative to what the factors we are using show. This helps reinforce the idea that it is important to look at the features of the underdog, because if you were to standarize the game and play in a neutral court, the better team will come out on top, and the better team is the one that can hinder the other team worse and keep the ball longer. These results make a lot of sense and will help tune our model appropriately. Once again, the code for this graph and the XGB classifier we used to select these features is down below a couple cells."
   ]
  },
  {
   "cell_type": "markdown",
   "metadata": {
    "id": "LC1kAnYXQPdY"
   },
   "source": [
    "### 3.3 Model Training and Testing"
   ]
  },
  {
   "cell_type": "code",
   "execution_count": null,
   "metadata": {
    "id": "wJrFBYebQPdY",
    "outputId": "33571d86-108d-48ba-85fb-0354e1dd2ff9"
   },
   "outputs": [
    {
     "name": "stdout",
     "output_type": "stream",
     "text": [
      "k-Nearest Neighbor: \n",
      "\tClassification accuracy on the test data:50.17%\n",
      "\n",
      "Gaussian Naive Bayes: \n",
      "\tClassification accuracy on the test data:57.68%\n",
      "\n",
      "Decision Tree: \n",
      "\tClassification accuracy on the test data:51.54%\n",
      "\n",
      "LinearSVC: \n",
      "\tClassification accuracy on the test data:55.97%\n",
      "\n",
      "k-Nearest Neighbor: \n",
      "\tmean accuracy=53.38%, standard deviation=4.36%\n",
      "\n",
      "Gaussian Naive Bayes: \n",
      "\tmean accuracy=56.79%, standard deviation=4.26%\n",
      "\n",
      "Decision Tree: \n",
      "\tmean accuracy=51.92%, standard deviation=4.35%\n",
      "\n",
      "LinearSVC: \n",
      "\tmean accuracy=56.96%, standard deviation=2.95%\n",
      "\n"
     ]
    },
    {
     "name": "stderr",
     "output_type": "stream",
     "text": [
      "/opt/python/envs/default/lib/python3.8/site-packages/sklearn/base.py:441: UserWarning: X does not have valid feature names, but KNeighborsClassifier was fitted with feature names\n",
      "  warnings.warn(\n",
      "/opt/python/envs/default/lib/python3.8/site-packages/sklearn/base.py:441: UserWarning: X does not have valid feature names, but KNeighborsClassifier was fitted with feature names\n",
      "  warnings.warn(\n",
      "/opt/python/envs/default/lib/python3.8/site-packages/sklearn/base.py:441: UserWarning: X does not have valid feature names, but KNeighborsClassifier was fitted with feature names\n",
      "  warnings.warn(\n",
      "/opt/python/envs/default/lib/python3.8/site-packages/sklearn/base.py:441: UserWarning: X does not have valid feature names, but KNeighborsClassifier was fitted with feature names\n",
      "  warnings.warn(\n",
      "/opt/python/envs/default/lib/python3.8/site-packages/sklearn/base.py:441: UserWarning: X does not have valid feature names, but KNeighborsClassifier was fitted with feature names\n",
      "  warnings.warn(\n",
      "/opt/python/envs/default/lib/python3.8/site-packages/sklearn/base.py:441: UserWarning: X does not have valid feature names, but KNeighborsClassifier was fitted with feature names\n",
      "  warnings.warn(\n",
      "/opt/python/envs/default/lib/python3.8/site-packages/sklearn/base.py:441: UserWarning: X does not have valid feature names, but KNeighborsClassifier was fitted with feature names\n",
      "  warnings.warn(\n",
      "/opt/python/envs/default/lib/python3.8/site-packages/sklearn/base.py:441: UserWarning: X does not have valid feature names, but KNeighborsClassifier was fitted with feature names\n",
      "  warnings.warn(\n",
      "/opt/python/envs/default/lib/python3.8/site-packages/sklearn/base.py:441: UserWarning: X does not have valid feature names, but KNeighborsClassifier was fitted with feature names\n",
      "  warnings.warn(\n",
      "/opt/python/envs/default/lib/python3.8/site-packages/sklearn/base.py:441: UserWarning: X does not have valid feature names, but KNeighborsClassifier was fitted with feature names\n",
      "  warnings.warn(\n",
      "/opt/python/envs/default/lib/python3.8/site-packages/sklearn/base.py:441: UserWarning: X does not have valid feature names, but KNeighborsClassifier was fitted with feature names\n",
      "  warnings.warn(\n"
     ]
    }
   ],
   "source": [
    "#using classification algorithims takes ~12 mins to run\n",
    "\n",
    "from sklearn.naive_bayes import GaussianNB\n",
    "from sklearn.neighbors import KNeighborsClassifier\n",
    "from sklearn.tree import DecisionTreeClassifier\n",
    "from sklearn.svm import LinearSVC\n",
    "\n",
    "\n",
    "estimators = {\n",
    "    'k-Nearest Neighbor': KNeighborsClassifier(), \n",
    "    'Gaussian Naive Bayes': GaussianNB(),\n",
    "    'Decision Tree': DecisionTreeClassifier(),\n",
    "    'LinearSVC': LinearSVC(max_iter=1000000),\n",
    " }\n",
    "\n",
    "from sklearn.model_selection import train_test_split\n",
    "\n",
    "features = newodds.drop([\"Date\", \"GameID\", \"HomeTeam\", \"AwayTeam\", \"HomeFinal\", \"AwayFinal\", \"Total\", \"2HSpread\",\n",
    "\"2HTotal\", \"Point Differential\", \"RealTotal\", \"Home Covers Spread?\", \"Over Total?\",\n",
    "\"HomeML\", \"AwayML\", \"AwayML_Decimal\", \"HomeML_Decimal\"], axis = 1)\n",
    "target = newodds['Home Covers Spread?']\n",
    "X_train, X_test, y_train, y_test = train_test_split(features, target, random_state=3000)\n",
    "    \n",
    "for estimator_name, estimator_object in estimators.items():\n",
    "    \n",
    "    \n",
    "    clf = estimator_object.fit(X=X_train, y=y_train)\n",
    "        \n",
    "    accuracy = estimator_object.score(X_test, y_test)\n",
    "    \n",
    "    print(estimator_name + \": \\n\\t\" + f'Classification accuracy on the test data:{accuracy:.2%}' + \"\\n\")\n",
    "\n",
    "from sklearn.model_selection import KFold\n",
    "from sklearn.model_selection import cross_val_score\n",
    "\n",
    "for estimator_name, estimator_object in estimators.items():\n",
    "    kfold = KFold(n_splits=10, random_state=3000, shuffle=True)\n",
    "    \n",
    "    scores = cross_val_score(estimator=estimator_object, X=features, y=target, cv=kfold)\n",
    "    \n",
    "    print(estimator_name + \": \\n\\t\" + f'mean accuracy={scores.mean():.2%}, ' \n",
    "            + f'standard deviation={scores.std():.2%}' +\"\\n\")\n",
    "\n",
    "\t"
   ]
  },
  {
   "cell_type": "code",
   "execution_count": null,
   "metadata": {
    "id": "2Mh8rxewQPdZ",
    "outputId": "ebb72fb1-00b1-460a-bdfe-d824e6caea84"
   },
   "outputs": [
    {
     "name": "stdout",
     "output_type": "stream",
     "text": [
      "[21:31:55] WARNING: ../src/learner.cc:1115: Starting in XGBoost 1.3.0, the default evaluation metric used with the objective 'binary:logistic' was changed from 'error' to 'logloss'. Explicitly set eval_metric if you'd like to restore the old behavior.\n",
      "Feature: 0, Score: 0.04519\n",
      "Feature: 1, Score: 0.06715\n",
      "Feature: 2, Score: 0.05996\n",
      "Feature: 3, Score: 0.05779\n",
      "Feature: 4, Score: 0.05313\n",
      "Feature: 5, Score: 0.05071\n",
      "Feature: 6, Score: 0.05600\n",
      "Feature: 7, Score: 0.05008\n",
      "Feature: 8, Score: 0.04324\n",
      "Feature: 9, Score: 0.04265\n",
      "Feature: 10, Score: 0.05036\n",
      "Feature: 11, Score: 0.05970\n",
      "Feature: 12, Score: 0.05525\n",
      "Feature: 13, Score: 0.05124\n",
      "Feature: 14, Score: 0.06260\n",
      "Feature: 15, Score: 0.05190\n",
      "Feature: 16, Score: 0.05113\n",
      "Feature: 17, Score: 0.04050\n",
      "Feature: 18, Score: 0.05144\n",
      "Classification accuracy on the test data:55.63%\n",
      "\n"
     ]
    },
    {
     "data": {
      "image/png": "[encoded data removed]"
     },
     "metadata": {
      "image/png": {}
     },
     "output_type": "display_data"
    }
   ],
   "source": [
    "# xgboost and feature importance graph\n",
    "\n",
    "from matplotlib import pyplot\n",
    "from xgboost import XGBClassifier\n",
    "\n",
    "\n",
    "model = XGBClassifier(use_label_encoder=False)\n",
    "\n",
    "model.fit(X_train, y_train)\n",
    "\n",
    "accuracy = model.score(X_test, y_test)\n",
    "\n",
    "importance = model.feature_importances_\n",
    "\n",
    "for i,v in enumerate(importance):\n",
    "\tprint('Feature: %0d, Score: %.5f' % (i,v))\n",
    "# plot feature importance\n",
    "pyplot.bar([x for x in range(len(importance))], importance)\n",
    "pyplot.show()\n",
    "\n",
    "print( f'Classification accuracy on the test data:{accuracy:.2%}' + \"\\n\")\n"
   ]
  },
  {
   "cell_type": "markdown",
   "metadata": {
    "id": "EeJa0Zb9QPdZ"
   },
   "source": [
    "### 3.4. Model Optimization\n",
    "\n",
    "We are optimizing here to see if we can improve model performance from above. Our variables are all percentages based out of 100% so most of them are scaled properly, but we will see if any significant increases arise from doing so. There has been no overfitting and underfitting threats thus far."
   ]
  },
  {
   "cell_type": "code",
   "execution_count": null,
   "metadata": {
    "id": "jcyYYF3OQPda",
    "outputId": "a5bb9330-d162-4897-aa04-8de7dd13874e"
   },
   "outputs": [
    {
     "name": "stdout",
     "output_type": "stream",
     "text": [
      "k-Nearest Neighbor: \n",
      "\tClassification accuracy on the test data:45.05%\n",
      "\n",
      "Gaussian Naive Bayes: \n",
      "\tClassification accuracy on the test data:44.37%\n",
      "\n",
      "Decision Tree: \n",
      "\tClassification accuracy on the test data:44.37%\n",
      "\n",
      "LinearSVC: \n",
      "\tClassification accuracy on the test data:44.37%\n",
      "\n"
     ]
    },
    {
     "name": "stderr",
     "output_type": "stream",
     "text": [
      "/opt/python/envs/default/lib/python3.8/site-packages/sklearn/base.py:434: UserWarning: X has feature names, but KNeighborsClassifier was fitted without feature names\n",
      "  warnings.warn(\n",
      "/opt/python/envs/default/lib/python3.8/site-packages/sklearn/base.py:434: UserWarning: X has feature names, but GaussianNB was fitted without feature names\n",
      "  warnings.warn(\n",
      "/opt/python/envs/default/lib/python3.8/site-packages/sklearn/base.py:434: UserWarning: X has feature names, but DecisionTreeClassifier was fitted without feature names\n",
      "  warnings.warn(\n",
      "/opt/python/envs/default/lib/python3.8/site-packages/sklearn/base.py:434: UserWarning: X has feature names, but LinearSVC was fitted without feature names\n",
      "  warnings.warn(\n"
     ]
    }
   ],
   "source": [
    "## scaling/selected and fitting the data \n",
    "\n",
    "\n",
    "\n",
    "scaler = MinMaxScaler()\n",
    "\n",
    "scaler.fit(X_train) \n",
    "\n",
    "X_train_scaled = scaler.transform(X_train) \n",
    "X_test_scaled = scaler.transform(X_test) \n",
    "\n",
    "estimators2 = {\n",
    "    'k-Nearest Neighbor': KNeighborsClassifier(), \n",
    "    'Gaussian Naive Bayes': GaussianNB(),\n",
    "    'Decision Tree': DecisionTreeClassifier(),\n",
    "    'LinearSVC': LinearSVC(max_iter=1000000)}\n",
    "    \n",
    "for estimator2_name, estimator2_object in estimators2.items():\n",
    "    \n",
    "    \n",
    "    clf = estimator2_object.fit(X=X_train_scaled, y=y_train)\n",
    "        \n",
    "    accuracy = estimator2_object.score(X_test, y_test)\n",
    "    \n",
    "    print(estimator2_name + \": \\n\\t\" + f'Classification accuracy on the test data:{accuracy:.2%}' + \"\\n\")"
   ]
  },
  {
   "cell_type": "code",
   "execution_count": null,
   "metadata": {
    "id": "1y1S6V4xQPda",
    "outputId": "b7f21876-7b08-4b41-897e-9a1b5847e4e0"
   },
   "outputs": [
    {
     "name": "stdout",
     "output_type": "stream",
     "text": [
      "[21:32:19] WARNING: ../src/learner.cc:1115: Starting in XGBoost 1.3.0, the default evaluation metric used with the objective 'binary:logistic' was changed from 'error' to 'logloss'. Explicitly set eval_metric if you'd like to restore the old behavior.\n",
      "Classification accuracy on the test data:51.19%\n",
      "\n"
     ]
    }
   ],
   "source": [
    "model = XGBClassifier(use_label_encoder=False)\n",
    "\n",
    "model.fit(X_train_scaled, y_train)\n",
    "\n",
    "accuracy = model.score(X_test, y_test)\n",
    "\n",
    "print(f'Classification accuracy on the test data:{accuracy:.2%}' + \"\\n\")"
   ]
  },
  {
   "cell_type": "code",
   "execution_count": null,
   "metadata": {
    "id": "KOiZOCJAQPda",
    "outputId": "552b2028-02bd-421d-af4d-8f7efce91517"
   },
   "outputs": [
    {
     "name": "stdout",
     "output_type": "stream",
     "text": [
      "k-Nearest Neighbor: \n",
      "\tClassification accuracy on the test data:50.51%\n",
      "\n",
      "Gaussian Naive Bayes: \n",
      "\tClassification accuracy on the test data:55.97%\n",
      "\n",
      "Decision Tree: \n",
      "\tClassification accuracy on the test data:54.27%\n",
      "\n",
      "LinearSVC: \n",
      "\tClassification accuracy on the test data:52.90%\n",
      "\n",
      "Selected features after RFE:\n",
      "\t Spread\n",
      "\t HomeFTA\n",
      "RATE\n",
      "\t HomeTOV%\n",
      "\t AwayTOV%\n",
      "\t AwayOPP\n",
      "TOV%\n"
     ]
    }
   ],
   "source": [
    "\n",
    "\n",
    "\n",
    "from sklearn.feature_selection import RFE\n",
    "from sklearn.tree import DecisionTreeRegressor\n",
    "\n",
    "\n",
    "select = RFE(DecisionTreeRegressor(random_state = 3000), n_features_to_select = 5)\n",
    "\n",
    "select.fit(X_train_scaled, y_train)\n",
    "\n",
    "X_train_selected = select.transform(X_train_scaled)\n",
    "X_test_selected = select.transform(X_test_scaled)\n",
    "\n",
    "estimators3 = {\n",
    "    'k-Nearest Neighbor': KNeighborsClassifier(), \n",
    "    'Gaussian Naive Bayes': GaussianNB(),\n",
    "    'Decision Tree': DecisionTreeClassifier(),\n",
    "    'LinearSVC': LinearSVC(max_iter=1000000)}\n",
    "    \n",
    "for estimator3_name, estimator3_object in estimators3.items():\n",
    "    \n",
    "    \n",
    "    clf = estimator3_object.fit(X=X_train_selected, y=y_train)\n",
    "        \n",
    "    accuracy = estimator3_object.score(X_test_selected, y_test)\n",
    "    \n",
    "    print(estimator3_name + \": \\n\\t\" + f'Classification accuracy on the test data:{accuracy:.2%}' + \"\\n\")\n",
    "\n",
    "    \n",
    "a = features.columns\n",
    "b = select.get_support()\n",
    "\n",
    "    \n",
    "    \n",
    "print(\"Selected features after RFE:\")\n",
    "    \n",
    "for col, tf in zip(a, b):  \n",
    "    if tf:\n",
    "        print(\"\\t\", col)"
   ]
  },
  {
   "cell_type": "code",
   "execution_count": null,
   "metadata": {
    "id": "xI2XmxPDQPdb",
    "outputId": "e5442aef-7229-4f0e-baf4-e7b2fab3eb45"
   },
   "outputs": [
    {
     "name": "stdout",
     "output_type": "stream",
     "text": [
      "[21:33:41] WARNING: ../src/learner.cc:1115: Starting in XGBoost 1.3.0, the default evaluation metric used with the objective 'binary:logistic' was changed from 'error' to 'logloss'. Explicitly set eval_metric if you'd like to restore the old behavior.\n",
      " XGB Classification accuracy on the test data:54.61%\n",
      "\n"
     ]
    }
   ],
   "source": [
    "\n",
    "model = XGBClassifier(use_label_encoder=False)\n",
    "\n",
    "model.fit(X_train_selected, y_train)\n",
    "\n",
    "accuracy = model.score(X_test_selected, y_test)\n",
    "\n",
    "print(f' XGB Classification accuracy on the test data:{accuracy:.2%}' + \"\\n\")"
   ]
  },
  {
   "cell_type": "markdown",
   "metadata": {
    "id": "VUJaz53ZQPdb"
   },
   "source": [
    "### 3.4/3.5 More Optimization/Testing"
   ]
  },
  {
   "cell_type": "code",
   "execution_count": null,
   "metadata": {
    "id": "JOlSOOc4QPdb",
    "outputId": "1a7db67b-2a8c-412a-97b5-c05fb953b593"
   },
   "outputs": [
    {
     "name": "stdout",
     "output_type": "stream",
     "text": [
      "Best parameters:  {'metric': 'manhattan', 'n_neighbors': 19, 'weights': 'uniform'}\n",
      "Training set score with best parameters:  0.6104783599088838\n",
      "Test set score with best parameters:  0.5426621160409556\n"
     ]
    }
   ],
   "source": [
    "#grid searching for KNN\n",
    "param_grid = {\"n_neighbors\":[3, 5, 11, 19], \"metric\": [\"euclidean\", \"manhattan\", \"minkowski\"], \"weights\": [\"uniform\", \"distance\"]}\n",
    "\n",
    ", \n",
    "grid_search = GridSearchCV(KNeighborsClassifier(), param_grid, cv=5)\n",
    "    \n",
    "grid_search.fit(X=X_train_selected, y=y_train)\n",
    "    \n",
    "    \n",
    "print(\"Best parameters: \", grid_search.best_params_)\n",
    "\n",
    "\n",
    "print(\"Training set score with best parameters: \", grid_search.score(X_train_selected, y_train))\n",
    "print(\"Test set score with best parameters: \", grid_search.score(X_test_selected, y_test))"
   ]
  },
  {
   "cell_type": "code",
   "execution_count": null,
   "metadata": {
    "id": "FNvrnZw2QPdb",
    "outputId": "e2bd5945-2a41-4171-d739-b227145965cb"
   },
   "outputs": [
    {
     "name": "stdout",
     "output_type": "stream",
     "text": [
      "Best parameters:  {'var_smoothing': 0.02848035868435802}\n",
      "Training set score with best parameters:  0.5398633257403189\n",
      "Test set score with best parameters:  0.5597269624573379\n"
     ]
    }
   ],
   "source": [
    "#grid searching for Gaussian NB\n",
    "\n",
    "param_grid = {'var_smoothing': np.logspace(0,-9, num=100)}\n",
    "\n",
    "grid_search = GridSearchCV(GaussianNB(), param_grid, cv=5)\n",
    "    \n",
    "grid_search.fit(X=X_train_selected, y=y_train)\n",
    "    \n",
    "    \n",
    "print(\"Best parameters: \", grid_search.best_params_)\n",
    "\n",
    "\n",
    "print(\"Training set score with best parameters: \", grid_search.score(X_train_selected, y_train))\n",
    "print(\"Test set score with best parameters: \", grid_search.score(X_test_selected, y_test))"
   ]
  },
  {
   "cell_type": "code",
   "execution_count": null,
   "metadata": {
    "id": "rx8tFhVrQPdb",
    "outputId": "613050b5-bc80-4567-cb50-7324cb77c3ba"
   },
   "outputs": [
    {
     "name": "stdout",
     "output_type": "stream",
     "text": [
      "Best parameters:  {'criterion': 'entropy', 'max_depth': 150}\n",
      "Training set score with best parameters:  0.9943052391799544\n",
      "Test set score with best parameters:  0.515358361774744\n"
     ]
    }
   ],
   "source": [
    "#grid searching for Decision tree\n",
    "\n",
    "#grid searching for KNN\n",
    "param_grid = {'criterion':['gini','entropy'] , \"max_depth\": [150]}\n",
    "\n",
    ", \n",
    "grid_search = GridSearchCV(DecisionTreeClassifier(), param_grid, cv=5)\n",
    "    \n",
    "grid_search.fit(X=X_train_selected, y=y_train)\n",
    "    \n",
    "    \n",
    "print(\"Best parameters: \", grid_search.best_params_)\n",
    "\n",
    "\n",
    "print(\"Training set score with best parameters: \", grid_search.score(X_train_selected, y_train))\n",
    "print(\"Test set score with best parameters: \", grid_search.score(X_test_selected, y_test))"
   ]
  },
  {
   "cell_type": "code",
   "execution_count": null,
   "metadata": {
    "id": "0ZnxLVspQPdb",
    "outputId": "5d6f7072-822f-4e57-8f7e-bac56a109ef5"
   },
   "outputs": [
    {
     "name": "stdout",
     "output_type": "stream",
     "text": [
      "Best parameters:  {'C': 10}\n",
      "Training set score with best parameters:  0.5444191343963554\n",
      "Test set score with best parameters:  0.5290102389078498\n"
     ]
    }
   ],
   "source": [
    "#grid searching for Linear SVC\n",
    "\n",
    "#grid searching for KNN\n",
    "param_grid = {'C':[1,10,100,1000]}\n",
    "\n",
    "\n",
    "grid_search = GridSearchCV(LinearSVC(max_iter=1000000), param_grid, cv=5)\n",
    "    \n",
    "grid_search.fit(X=X_train_selected, y=y_train)\n",
    "    \n",
    "    \n",
    "print(\"Best parameters: \", grid_search.best_params_)\n",
    "\n",
    "\n",
    "print(\"Training set score with best parameters: \", grid_search.score(X_train_selected, y_train))\n",
    "print(\"Test set score with best parameters: \", grid_search.score(X_test_selected, y_test))"
   ]
  },
  {
   "cell_type": "code",
   "execution_count": null,
   "metadata": {
    "id": "Tr7fRGRNQPdc",
    "outputId": "76c2a04f-093e-473e-c3ed-1ac92930b5c2"
   },
   "outputs": [
    {
     "name": "stdout",
     "output_type": "stream",
     "text": [
      "Best parameters:  {'colsample_bytree': 0.6, 'gamma': 2, 'max_depth': 3, 'min_child_weight': 10, 'subsample': 0.8}\n",
      "Training set score with best parameters:  0.683371298405467\n",
      "Test set score with best parameters:  0.5665529010238908\n"
     ]
    }
   ],
   "source": [
    "\n",
    "#grid searching for XGB classifier, takes around 30 mins to run\n",
    "\n",
    "param_grid = {\n",
    "        'min_child_weight': [1, 5, 10],\n",
    "        'gamma': [0.5, 1, 1.5, 2, 5],\n",
    "        'subsample': [0.6, 0.8, 1.0],\n",
    "        'colsample_bytree': [0.6, 0.8, 1.0],\n",
    "        'max_depth': [3, 4, 5]\n",
    "        }\n",
    "\n",
    "\n",
    "grid_search = GridSearchCV(XGBClassifier(use_label_encoder=False, eval_metric='auc'), param_grid, cv=5)\n",
    "    \n",
    "grid_search.fit(X=X_train_selected, y=y_train)\n",
    "    \n",
    "    \n",
    "print(\"Best parameters: \", grid_search.best_params_)\n",
    "\n",
    "\n",
    "print(\"Training set score with best parameters: \", grid_search.score(X_train_selected, y_train))\n",
    "print(\"Test set score with best parameters: \", grid_search.score(X_test_selected, y_test))"
   ]
  },
  {
   "cell_type": "markdown",
   "metadata": {
    "id": "QNasKn7kQPdc"
   },
   "source": [
    "<a id=\"4\"></a>\n",
    "<hr style=\"height:2px; border:none; color:black; background-color:black;\">"
   ]
  },
  {
   "cell_type": "markdown",
   "metadata": {
    "id": "fZO8Mzn8QPdc"
   },
   "source": [
    "## 4. DISCUSSION\n",
    "* Interpret your findings from 3.3, 3.4, and 3.5\n",
    "    * Which algorithms did you compare?\n",
    "    * Which algorithm(s) revealed best performance? With what parameters?\n",
    "    * Which algorithm(s) should be used for your predictive model?\n",
    "    * Based on your findings, can we use the features in your dataset to predict the outcome variable you identified using the algorithms you've applied? (It is okay if the answer is no. We're interested in the process, not the performance of the model.)\n",
    "\n",
    "* Discuss the ethical implications of your project. Should your results be accepted at face value, why or why not? (e.g. any dataset bias or methodological issues?)\n",
    "\n",
    "* End this section with a conclusion paragraph containing some pointers for future work\n",
    "    * (e.g., get more data/features, perform another analysis, etc.)"
   ]
  },
  {
   "cell_type": "markdown",
   "metadata": {
    "id": "6LTCoGh7QPdc"
   },
   "source": [
    "The algorithms we compared in this problem are: K Nearest Neighbors, Gaussian Naive Bayes, Linear SVC, Decision Trees and XGBoost. The algorithm that revealed the best performance was Gaussian Naive Bayes with no scaled or selected features at an accuracy of 57.68%. When using k-fold, it had a mean accuracy of 56.79% with standard deviation of 4.26%. When the features were normalized, a decrease in performance was seen (44.37%). Then with selected features, it increased to 55.97%, which is still a decrease from the initial accuracy. Then with grid search for parameters, an accuracy of 56% was seen ('var_smoothing': 0.02848035868435802). So, with the default parameters and initial features of our data, we see an accuracy of 57.68% from the Gaussian Naive Bayes algorithm.\n",
    "\n",
    "Another algorithm with promising results was XGBoost, it started with an accuracy of 55.63%. Then with normalized features, 51.19%. Then with selected features: 54.61%. And finally, after grid searching, an accuracy of 56.6% was seen with parameters: ('colsample_bytree': 0.6, 'gamma': 2, 'max_depth': 3, 'min_child_weight': 10, 'subsample': 0.8). The final accuracy of 56.65% was just .14%. short of Gaussian Naive Bayes, still a promising algorithm for this problem nonetheless. Linear SVC also showed promising results but not as good as these two.\n",
    "\n",
    "\n",
    "The algorithms we should use for this problem would be Gaussian Naive Bayes. This model can be used to predict if the home team covers the spread, but it should not be the only factor if you were to make a smart decision. The model predicts with ~60% accuracy which is better than a coin flip, so statistically speaking, you would net profit if the model was true to this number, but as we know in statistics, this is not always the case. All in all, you should use this model as another factor in your decision, one that has a good amount of weight but, not your only telltale sign. \n",
    "\n",
    "Gambling is a dangerous activity that can lead to bankruptcy and mental health issues. You should not use this model if you are getting into gambling, and gambling is not an advisable strategy to make money. If used for recreational purposes with low amounts of money, then you may proceed, but be wary of the slippery slope that many fall down when they start gambling. Gambling hotline: 1-800-327-5050\n",
    "\n",
    "Interestingly, when we performed RFE, the extracted features were Home FTA rate, Home TOV%, Away TOV%, and Away Opp TOV%. While turnover percentage (TOV%) is certainly an important factor, it is unclear why the home team's TOV%, away team's TOV%, and away team's average opponent TOV% were all considered important features, but the home team's average opponent TOV% was not. This same principle goes for FTA rate, as it doesn't make sense that Home FTA rate would be more important than Away FTA rate. Despite having a large number of feature variables, our models were unable to predict if a team would cover the spread at high accuracy. For future analysis, we could take a closer look at the most important features and narrow down our list. For example, perhaps home FTA rate is not as important of a factor as we previously thought. Removing this variable could increase the performance of the model. On the other hand, maybe home FTA rate is a key factor and a different feature ought to be removed. While we experimented with taking a few features out here and there, we did not have sufficient time to perform a complex analysis on the best combination of features. \n",
    "\n",
    "Since predicting whether or not the home team would cover the spread proved to be inconclusive, future analysis could focus in more on the money line rather than the spread. For example, we could use regression models to predict what the money line \"should be\". In cases where the Vegas money line was significantly better than the model-predicted line, it could be advantageous to bet on the Vegas line. Still, there is no guarantee that these models would perform better than our spread models, and the aforementioned feature analysis would still need to be conducted."
   ]
  },
  {
   "cell_type": "markdown",
   "metadata": {
    "id": "8mEMzkbeQPdc"
   },
   "source": [
    "<a id=\"5\"></a>\n",
    "<hr style=\"height:2px; border:none; color:black; background-color:black;\">"
   ]
  },
  {
   "cell_type": "markdown",
   "metadata": {
    "id": "sH5CG2f4QPdd"
   },
   "source": [
    "### CONTRIBUTIONS\n",
    " - Dan - Research, Section 2, Section 3, Section 4; extracted data, wrangled data, organized data, created functions for data, help scaled and tested algorithms, wrote up parts of conclusion.\n",
    "- Vivek - Research, Section 2, Section 3, Section 4; extracted data, wrangled data, organized data, created functions for data, help scaled and tested algorithms, wrote up parts of conclusion.\n",
    "- Abyan - Research ,Section 1, Section 3, Section 4; wrote intro and executive summary, trained, scaled, selected, grid searched and tested algorithms, wrote up parts of conclusion."
   ]
  },
  {
   "cell_type": "code",
   "execution_count": null,
   "metadata": {
    "id": "USsDreL6QPdd"
   },
   "outputs": [],
   "source": []
  }
 ],
 "metadata": {
  "colab": {
   "name": "DS3000_FP4_Group30.ipynb",
   "provenance": []
  },
  "kernelspec": {
   "display_name": "Python 3",
   "language": "python",
   "name": "python3"
  },
  "language_info": {
   "codemirror_mode": {
    "name": "ipython",
    "version": 3
   },
   "file_extension": ".py",
   "mimetype": "text/x-python",
   "name": "python",
   "nbconvert_exporter": "python",
   "pygments_lexer": "ipython3",
   "version": "3.7.6"
  }
 },
 "nbformat": 4,
 "nbformat_minor": 1
}
